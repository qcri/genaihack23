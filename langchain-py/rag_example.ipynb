{
 "cells": [
  {
   "cell_type": "markdown",
   "metadata": {},
   "source": [
    "# Retrieval Augmented Generation (RAG) with [LangChain](https://python.langchain.com/docs)"
   ]
  },
  {
   "cell_type": "markdown",
   "metadata": {},
   "source": [
    "## 1. Install Dependencies"
   ]
  },
  {
   "cell_type": "code",
   "execution_count": null,
   "metadata": {},
   "outputs": [],
   "source": [
    "%pip install langchain==0.0.345 openai==1.2.3 pypdf chromadb pysqlite3-binary tiktoken\n",
    "\n",
    "__import__('pysqlite3')\n",
    "import sys\n",
    "sys.modules['sqlite3'] = sys.modules.pop('pysqlite3')"
   ]
  },
  {
   "cell_type": "markdown",
   "metadata": {},
   "source": [
    "## 2. Set API access\n",
    "\n",
    "You may choose from a wide array of [providers](https://python.langchain.com/docs/integrations) to integrate with. The example below uses OpenAI models through [Azure](https://oai.azure.com/portal)."
   ]
  },
  {
   "cell_type": "code",
   "execution_count": null,
   "metadata": {},
   "outputs": [],
   "source": [
    "%env AZURE_OPENAI_ENDPOINT=https://<your-endpoint>.openai.azure.com/\n",
    "%env AZURE_OPENAI_API_KEY=<YOUR_AZUREOPENAI_KEY>\n",
    "%env OPENAI_API_TYPE=azure\n",
    "%env OPENAI_API_KEY=<YOUR_AZUREOPENAI_KEY>\n",
    "%env OPENAI_API_VERSION=2023-05-15"
   ]
  },
  {
   "cell_type": "markdown",
   "metadata": {},
   "source": [
    "## 3. Read data"
   ]
  },
  {
   "cell_type": "code",
   "execution_count": null,
   "metadata": {},
   "outputs": [],
   "source": [
    "from langchain.document_loaders import PyPDFLoader\n",
    "\n",
    "# Load the text of the Geneva Convention.\n",
    "loader = PyPDFLoader(\"https://ihl-databases.icrc.org/assets/treaties/365-GC-I-EN.pdf\")\n",
    "pages = loader.load_and_split()\n"
   ]
  },
  {
   "cell_type": "markdown",
   "metadata": {},
   "source": [
    "## 4. Create vector store retriever"
   ]
  },
  {
   "cell_type": "code",
   "execution_count": null,
   "metadata": {},
   "outputs": [],
   "source": [
    "from langchain.vectorstores import Chroma\n",
    "from langchain.embeddings import AzureOpenAIEmbeddings\n",
    "from chromadb.config import Settings\n",
    "\n",
    "deployment_name = \"<your-embedding-deployment-name>\"\n",
    "embeddings = AzureOpenAIEmbeddings(azure_deployment=deployment_name)\n",
    "vectorstore = Chroma.from_documents(\n",
    "    documents=pages,\n",
    "    embedding=embeddings,\n",
    "    client_settings=Settings()\n",
    ")\n",
    "retriever = vectorstore.as_retriever()"
   ]
  },
  {
   "cell_type": "markdown",
   "metadata": {},
   "source": [
    "## 5. Create model"
   ]
  },
  {
   "cell_type": "code",
   "execution_count": null,
   "metadata": {},
   "outputs": [],
   "source": [
    "from langchain.chat_models import AzureChatOpenAI\n",
    "\n",
    "temperature = 0.2\n",
    "deployment_name = \"<your-llm-deployment-name>\"\n",
    "llm = AzureChatOpenAI(temperature=temperature, azure_deployment=deployment_name)"
   ]
  },
  {
   "cell_type": "markdown",
   "metadata": {},
   "source": [
    "## 6. Perform Q&A"
   ]
  },
  {
   "cell_type": "code",
   "execution_count": null,
   "metadata": {},
   "outputs": [],
   "source": [
    "from langchain.prompts import PromptTemplate\n",
    "from langchain.schema.runnable import RunnablePassthrough\n",
    "from langchain.schema import StrOutputParser\n",
    "\n",
    "def format_docs(docs):\n",
    "    return \"\\n\\n\".join(doc.page_content for doc in docs)\n",
    "\n",
    "prompt_template = PromptTemplate.from_template(\"{question}\")\n",
    "rag_chain = (\n",
    "    {\"context\": retriever | format_docs, \"question\": RunnablePassthrough()}\n",
    "    | prompt_template\n",
    "    | llm\n",
    "    | StrOutputParser()\n",
    ")\n",
    "\n",
    "question = \"What is the emblem of the Geneva Convention?\"\n",
    "rag_chain.invoke(question)"
   ]
  }
 ],
 "metadata": {
  "kernelspec": {
   "display_name": "Python 3",
   "language": "python",
   "name": "python3"
  },
  "language_info": {
   "codemirror_mode": {
    "name": "ipython",
    "version": 3
   },
   "file_extension": ".py",
   "mimetype": "text/x-python",
   "name": "python",
   "nbconvert_exporter": "python",
   "pygments_lexer": "ipython3",
   "version": "3.10.13"
  }
 },
 "nbformat": 4,
 "nbformat_minor": 2
}
